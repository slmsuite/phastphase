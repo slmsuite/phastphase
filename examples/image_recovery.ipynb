{
 "cells": [
  {
   "cell_type": "markdown",
   "metadata": {},
   "source": [
    "### Phase Retrieval with phastphase\n",
    "In this example, we will do a simple demonstration recovering a (truncated) Lagurre-Gaussian Mode using phastphase. "
   ]
  },
  {
   "cell_type": "code",
   "execution_count": 9,
   "metadata": {},
   "outputs": [
    {
     "name": "stdout",
     "output_type": "stream",
     "text": [
      "The autoreload extension is already loaded. To reload it, use:\n",
      "  %reload_ext autoreload\n"
     ]
    }
   ],
   "source": [
    "%load_ext autoreload\n",
    "%autoreload 2\n",
    "\n",
    "\n",
    "import sys, os\n",
    "import scipy\n",
    "from scipy import special\n",
    "import numpy as np\n",
    "import torch\n",
    "import matplotlib.pyplot as plt\n",
    "sys.path.append(os.path.join(os.getcwd(), '../../fastphase'))\n",
    "import phastphase\n"
   ]
  },
  {
   "cell_type": "code",
   "execution_count": 7,
   "metadata": {},
   "outputs": [],
   "source": [
    "if torch.cuda.is_available():\n",
    "    tensor_device = torch.device('cuda')\n",
    "else:\n",
    "    tensor_device = torch.device('cpu')"
   ]
  },
  {
   "cell_type": "code",
   "execution_count": 99,
   "metadata": {},
   "outputs": [
    {
     "name": "stdout",
     "output_type": "stream",
     "text": [
      "Calculated reference location is: [0, 0]\n",
      "iter 1 - fval: 27233.8684\n",
      "iter 2 - fval: 26432.9547\n",
      "iter 3 - fval: 25284.3890\n",
      "iter 4 - fval: 23445.9320\n",
      "iter 5 - fval: 20399.1412\n",
      "iter 6 - fval: 16002.3392\n",
      "iter 7 - fval: 11475.7531\n",
      "iter 8 - fval: 8502.3556\n",
      "iter 9 - fval: 8502.3556\n",
      "iter 10 - fval: 7132.3585\n",
      "iter 11 - fval: 6510.4102\n",
      "iter 12 - fval: 5122.1000\n",
      "iter 13 - fval: 5122.1000\n",
      "iter 14 - fval: 4309.6355\n",
      "iter 15 - fval: 4309.6355\n",
      "iter 16 - fval: 3967.9416\n",
      "iter 17 - fval: 3710.5695\n",
      "iter 18 - fval: 3427.9404\n",
      "iter 19 - fval: 3347.9791\n",
      "iter 20 - fval: 3006.6416\n",
      "iter 21 - fval: 2795.2305\n",
      "iter 22 - fval: 2744.6055\n",
      "iter 23 - fval: 2378.7394\n",
      "iter 24 - fval: 2029.0299\n",
      "iter 25 - fval: 1945.6730\n",
      "iter 26 - fval: 1921.7643\n",
      "iter 27 - fval: 1474.5417\n",
      "iter 28 - fval: 1432.2680\n",
      "iter 29 - fval: 1432.2680\n",
      "iter 30 - fval: 1205.5227\n",
      "iter 31 - fval: 1180.8302\n",
      "iter 32 - fval: 1030.7027\n",
      "iter 33 - fval: 892.3888\n",
      "iter 34 - fval: 835.5980\n",
      "iter 35 - fval: 690.5291\n",
      "iter 36 - fval: 429.2408\n",
      "iter 37 - fval: 365.4444\n",
      "iter 38 - fval: 192.1684\n",
      "iter 39 - fval: 192.1684\n",
      "iter 40 - fval: 136.3482\n",
      "iter 41 - fval: 90.0039\n",
      "iter 42 - fval: 82.4214\n",
      "iter 43 - fval: 46.3527\n",
      "iter 44 - fval: 30.3437\n",
      "iter 45 - fval: 11.2008\n",
      "iter 46 - fval: 11.2008\n",
      "iter 47 - fval: 5.9787\n",
      "iter 48 - fval: 1.9587\n",
      "iter 49 - fval: 1.0807\n",
      "iter 50 - fval: 0.3077\n",
      "iter 51 - fval: 0.2115\n",
      "iter 52 - fval: 0.1423\n",
      "iter 53 - fval: 0.1099\n",
      "iter 54 - fval: 0.0392\n",
      "iter 55 - fval: 0.0223\n",
      "iter 56 - fval: 0.0075\n",
      "iter 57 - fval: 0.0002\n",
      "iter 58 - fval: 0.0000\n",
      "iter 59 - fval: 0.0000\n",
      "iter 60 - fval: 0.0000\n",
      "iter 61 - fval: 0.0000\n",
      "Optimization terminated successfully.\n",
      "         Current function value: 0.000000\n",
      "         Iterations: 61\n",
      "         Function evaluations: 62\n",
      "tensor(6.2265e-09, device='cuda:0', dtype=torch.float64)\n"
     ]
    },
    {
     "data": {
      "text/plain": [
       "<matplotlib.contour.QuadContourSet at 0x1d3f2b1cf50>"
      ]
     },
     "execution_count": 99,
     "metadata": {},
     "output_type": "execute_result"
    },
    {
     "data": {
      "image/png": "[encoded data removed]",
      "text/plain": [
       "<Figure size 640x480 with 1 Axes>"
      ]
     },
     "metadata": {},
     "output_type": "display_data"
    }
   ],
   "source": [
    "p = 7\n",
    "n_pts = 2**p\n",
    "oversample_factor = 2\n",
    "herm_gauss_ord = 3\n",
    "x = np.linspace(-1.4,1.4, n_pts)\n",
    "y = np.linspace(-1.4,1.4, n_pts)\n",
    "x,y = np.meshgrid(x,y)\n",
    "r = np.sqrt((x+1.4)**2+(y+1.4)**2)\n",
    "herm_gauss_beam = special.eval_hermite(herm_gauss_ord,np.sqrt(2)*x)*special.eval_hermite(herm_gauss_ord,np.sqrt(2)*y)*np.exp(-(x**2 + y**2))*np.exp(-(r)/2.5)*np.exp(5j*np.arctan2(x,y)/2)\n",
    "near_field = torch.tensor(herm_gauss_beam,device=tensor_device)\n",
    "near_field = near_field/torch.exp(1j*torch.angle(near_field[0,0]))\n",
    "far_field = torch.square(torch.abs(torch.fft.fftn(near_field,(oversample_factor*n_pts, oversample_factor*n_pts), norm='ortho')))\n",
    "reconstruction = phastphase.retrieve(far_field,[n_pts,n_pts],verbose = True)\n",
    "reconstruction = reconstruction/torch.exp(1j*torch.angle(reconstruction[0,0]))\n",
    "print(torch.linalg.vector_norm(reconstruction-near_field))\n",
    "plt.contourf(np.abs(herm_gauss_beam))"
   ]
  }
 ],
 "metadata": {
  "kernelspec": {
   "display_name": "torch",
   "language": "python",
   "name": "python3"
  },
  "language_info": {
   "codemirror_mode": {
    "name": "ipython",
    "version": 3
   },
   "file_extension": ".py",
   "mimetype": "text/x-python",
   "name": "python",
   "nbconvert_exporter": "python",
   "pygments_lexer": "ipython3",
   "version": "3.11.4"
  }
 },
 "nbformat": 4,
 "nbformat_minor": 2
}
